{
 "cells": [
  {
   "cell_type": "markdown",
   "metadata": {},
   "source": [
    "# Chatbot"
   ]
  },
  {
   "cell_type": "code",
   "execution_count": null,
   "metadata": {},
   "outputs": [
    {
     "data": {
      "text/plain": [
       "True"
      ]
     },
     "execution_count": 1,
     "metadata": {},
     "output_type": "execute_result"
    }
   ],
   "source": [
    "import os\n",
    "from dotenv import load_dotenv\n",
    "load_dotenv()"
   ]
  },
  {
   "cell_type": "code",
   "execution_count": 4,
   "metadata": {},
   "outputs": [
    {
     "data": {
      "text/plain": [
       "ChatGroq(client=<groq.resources.chat.completions.Completions object at 0x112be8500>, async_client=<groq.resources.chat.completions.AsyncCompletions object at 0x112be8f50>, model_name='Gemma2-9b-It', model_kwargs={}, groq_api_key=SecretStr('**********'))"
      ]
     },
     "execution_count": 4,
     "metadata": {},
     "output_type": "execute_result"
    }
   ],
   "source": [
    "from langchain_groq import ChatGroq\n",
    "\n",
    "llm = ChatGroq(\n",
    "    model=\"Gemma2-9b-It\"\n",
    ")\n",
    "llm"
   ]
  },
  {
   "cell_type": "markdown",
   "metadata": {},
   "source": [
    "# Start building Chatbot using LangGraph"
   ]
  },
  {
   "cell_type": "code",
   "execution_count": 6,
   "metadata": {},
   "outputs": [],
   "source": [
    "from typing import Annotated\n",
    "from typing_extensions import TypedDict\n",
    "from langgraph.graph import StateGraph, START, END, add_messages"
   ]
  },
  {
   "cell_type": "code",
   "execution_count": 7,
   "metadata": {},
   "outputs": [
    {
     "name": "stdout",
     "output_type": "stream",
     "text": [
      "Help on StateGraph in module langgraph.graph.state object:\n",
      "\n",
      "class StateGraph(langgraph.graph.graph.Graph)\n",
      " |  StateGraph(state_schema: Optional[Type[Any]] = None, config_schema: Optional[Type[Any]] = None, *, input: Optional[Type[Any]] = None, output: Optional[Type[Any]] = None) -> None\n",
      " |\n",
      " |  A graph whose nodes communicate by reading and writing to a shared state.\n",
      " |  The signature of each node is State -> Partial<State>.\n",
      " |\n",
      " |  Each state key can optionally be annotated with a reducer function that\n",
      " |  will be used to aggregate the values of that key received from multiple nodes.\n",
      " |  The signature of a reducer function is (Value, Value) -> Value.\n",
      " |\n",
      " |  Args:\n",
      " |      state_schema (Type[Any]): The schema class that defines the state.\n",
      " |      config_schema (Optional[Type[Any]]): The schema class that defines the configuration.\n",
      " |          Use this to expose configurable parameters in your API.\n",
      " |\n",
      " |\n",
      " |  Examples:\n",
      " |      >>> from langchain_core.runnables import RunnableConfig\n",
      " |      >>> from typing_extensions import Annotated, TypedDict\n",
      " |      >>> from langgraph.checkpoint.memory import MemorySaver\n",
      " |      >>> from langgraph.graph import StateGraph\n",
      " |      >>>\n",
      " |      >>> def reducer(a: list, b: int | None) -> list:\n",
      " |      ...     if b is not None:\n",
      " |      ...         return a + [b]\n",
      " |      ...     return a\n",
      " |      >>>\n",
      " |      >>> class State(TypedDict):\n",
      " |      ...     x: Annotated[list, reducer]\n",
      " |      >>>\n",
      " |      >>> class ConfigSchema(TypedDict):\n",
      " |      ...     r: float\n",
      " |      >>>\n",
      " |      >>> graph = StateGraph(State, config_schema=ConfigSchema)\n",
      " |      >>>\n",
      " |      >>> def node(state: State, config: RunnableConfig) -> dict:\n",
      " |      ...     r = config[\"configurable\"].get(\"r\", 1.0)\n",
      " |      ...     x = state[\"x\"][-1]\n",
      " |      ...     next_value = x * r * (1 - x)\n",
      " |      ...     return {\"x\": next_value}\n",
      " |      >>>\n",
      " |      >>> graph.add_node(\"A\", node)\n",
      " |      >>> graph.set_entry_point(\"A\")\n",
      " |      >>> graph.set_finish_point(\"A\")\n",
      " |      >>> compiled = graph.compile()\n",
      " |      >>>\n",
      " |      >>> print(compiled.config_specs)\n",
      " |      [ConfigurableFieldSpec(id='r', annotation=<class 'float'>, name=None, description=None, default=None, is_shared=False, dependencies=None)]\n",
      " |      >>>\n",
      " |      >>> step1 = compiled.invoke({\"x\": 0.5}, {\"configurable\": {\"r\": 3.0}})\n",
      " |      >>> print(step1)\n",
      " |      {'x': [0.5, 0.75]}\n",
      " |\n",
      " |  Method resolution order:\n",
      " |      StateGraph\n",
      " |      langgraph.graph.graph.Graph\n",
      " |      builtins.object\n",
      " |\n",
      " |  Methods defined here:\n",
      " |\n",
      " |  __init__(self, state_schema: Optional[Type[Any]] = None, config_schema: Optional[Type[Any]] = None, *, input: Optional[Type[Any]] = None, output: Optional[Type[Any]] = None) -> None\n",
      " |      Initialize self.  See help(type(self)) for accurate signature.\n",
      " |\n",
      " |  add_edge(self, start_key: Union[str, list[str]], end_key: str) -> Self\n",
      " |      Adds a directed edge from the start node to the end node.\n",
      " |\n",
      " |      If the graph transitions to the start_key node, it will always transition to the end_key node next.\n",
      " |\n",
      " |      Args:\n",
      " |          start_key (Union[str, list[str]]): The key(s) of the start node(s) of the edge.\n",
      " |          end_key (str): The key of the end node of the edge.\n",
      " |\n",
      " |      Raises:\n",
      " |          ValueError: If the start key is 'END' or if the start key or end key is not present in the graph.\n",
      " |\n",
      " |      Returns:\n",
      " |          StateGraph\n",
      " |\n",
      " |  add_node(self, node: Union[str, langchain_core.runnables.base.Runnable[-Input, +Output], Callable[[-Input], +Output], Callable[[-Input], collections.abc.Awaitable[+Output]], Callable[[collections.abc.Iterator[-Input]], collections.abc.Iterator[+Output]], Callable[[collections.abc.AsyncIterator[-Input]], collections.abc.AsyncIterator[+Output]], langchain_core.runnables.base._RunnableCallableSync[-Input, +Output], langchain_core.runnables.base._RunnableCallableAsync[-Input, +Output], langchain_core.runnables.base._RunnableCallableIterator[-Input, +Output], langchain_core.runnables.base._RunnableCallableAsyncIterator[-Input, +Output], collections.abc.Mapping[str, Any]], action: Union[langchain_core.runnables.base.Runnable[-Input, +Output], Callable[[-Input], +Output], Callable[[-Input], collections.abc.Awaitable[+Output]], Callable[[collections.abc.Iterator[-Input]], collections.abc.Iterator[+Output]], Callable[[collections.abc.AsyncIterator[-Input]], collections.abc.AsyncIterator[+Output]], langchain_core.runnables.base._RunnableCallableSync[-Input, +Output], langchain_core.runnables.base._RunnableCallableAsync[-Input, +Output], langchain_core.runnables.base._RunnableCallableIterator[-Input, +Output], langchain_core.runnables.base._RunnableCallableAsyncIterator[-Input, +Output], collections.abc.Mapping[str, Any], NoneType] = None, *, metadata: Optional[dict[str, Any]] = None, input: Optional[Type[Any]] = None, retry: Optional[langgraph.types.RetryPolicy] = None) -> Self\n",
      " |      Adds a new node to the state graph.\n",
      " |\n",
      " |      Will take the name of the function/runnable as the node name.\n",
      " |\n",
      " |      Args:\n",
      " |          node (Union[str, RunnableLike)]: The function or runnable this node will run.\n",
      " |          action (Optional[RunnableLike]): The action associated with the node. (default: None)\n",
      " |          metadata (Optional[dict[str, Any]]): The metadata associated with the node. (default: None)\n",
      " |          input (Optional[Type[Any]]): The input schema for the node. (default: the graph's input schema)\n",
      " |          retry (Optional[RetryPolicy]): The policy for retrying the node. (default: None)\n",
      " |      Raises:\n",
      " |          ValueError: If the key is already being used as a state key.\n",
      " |\n",
      " |\n",
      " |      Examples:\n",
      " |          ```pycon\n",
      " |          >>> from langgraph.graph import START, StateGraph\n",
      " |          ...\n",
      " |          >>> def my_node(state, config):\n",
      " |          ...    return {\"x\": state[\"x\"] + 1}\n",
      " |          ...\n",
      " |          >>> builder = StateGraph(dict)\n",
      " |          >>> builder.add_node(my_node)  # node name will be 'my_node'\n",
      " |          >>> builder.add_edge(START, \"my_node\")\n",
      " |          >>> graph = builder.compile()\n",
      " |          >>> graph.invoke({\"x\": 1})\n",
      " |          {'x': 2}\n",
      " |          ```\n",
      " |          Customize the name:\n",
      " |\n",
      " |          ```pycon\n",
      " |          >>> builder = StateGraph(dict)\n",
      " |          >>> builder.add_node(\"my_fair_node\", my_node)\n",
      " |          >>> builder.add_edge(START, \"my_fair_node\")\n",
      " |          >>> graph = builder.compile()\n",
      " |          >>> graph.invoke({\"x\": 1})\n",
      " |          {'x': 2}\n",
      " |          ```\n",
      " |\n",
      " |      Returns:\n",
      " |          StateGraph\n",
      " |\n",
      " |  add_sequence(self, nodes: Sequence[Union[langchain_core.runnables.base.Runnable[-Input, +Output], Callable[[-Input], +Output], Callable[[-Input], collections.abc.Awaitable[+Output]], Callable[[collections.abc.Iterator[-Input]], collections.abc.Iterator[+Output]], Callable[[collections.abc.AsyncIterator[-Input]], collections.abc.AsyncIterator[+Output]], langchain_core.runnables.base._RunnableCallableSync[-Input, +Output], langchain_core.runnables.base._RunnableCallableAsync[-Input, +Output], langchain_core.runnables.base._RunnableCallableIterator[-Input, +Output], langchain_core.runnables.base._RunnableCallableAsyncIterator[-Input, +Output], collections.abc.Mapping[str, Any], tuple[str, Union[langchain_core.runnables.base.Runnable[-Input, +Output], Callable[[-Input], +Output], Callable[[-Input], collections.abc.Awaitable[+Output]], Callable[[collections.abc.Iterator[-Input]], collections.abc.Iterator[+Output]], Callable[[collections.abc.AsyncIterator[-Input]], collections.abc.AsyncIterator[+Output]], langchain_core.runnables.base._RunnableCallableSync[-Input, +Output], langchain_core.runnables.base._RunnableCallableAsync[-Input, +Output], langchain_core.runnables.base._RunnableCallableIterator[-Input, +Output], langchain_core.runnables.base._RunnableCallableAsyncIterator[-Input, +Output], collections.abc.Mapping[str, Any]]]]]) -> Self\n",
      " |      Add a sequence of nodes that will be executed in the provided order.\n",
      " |\n",
      " |      Args:\n",
      " |          nodes: A sequence of RunnableLike objects (e.g. a LangChain Runnable or a callable) or (name, RunnableLike) tuples.\n",
      " |              If no names are provided, the name will be inferred from the node object (e.g. a runnable or a callable name).\n",
      " |              Each node will be executed in the order provided.\n",
      " |\n",
      " |      Raises:\n",
      " |          ValueError: if the sequence is empty.\n",
      " |          ValueError: if the sequence contains duplicate node names.\n",
      " |\n",
      " |      Returns:\n",
      " |          StateGraph\n",
      " |\n",
      " |  compile(self, checkpointer: Union[NoneType, Literal[False], langgraph.checkpoint.base.BaseCheckpointSaver] = None, *, store: Optional[langgraph.store.base.BaseStore] = None, interrupt_before: Union[Literal['*'], list[str], NoneType] = None, interrupt_after: Union[Literal['*'], list[str], NoneType] = None, debug: bool = False) -> 'CompiledStateGraph'\n",
      " |      Compiles the state graph into a `CompiledGraph` object.\n",
      " |\n",
      " |      The compiled graph implements the `Runnable` interface and can be invoked,\n",
      " |      streamed, batched, and run asynchronously.\n",
      " |\n",
      " |      Args:\n",
      " |          checkpointer (Optional[Union[Checkpointer, Literal[False]]]): A checkpoint saver object or flag.\n",
      " |              If provided, this Checkpointer serves as a fully versioned \"short-term memory\" for the graph,\n",
      " |              allowing it to be paused, resumed, and replayed from any point.\n",
      " |              If None, it may inherit the parent graph's checkpointer when used as a subgraph.\n",
      " |              If False, it will not use or inherit any checkpointer.\n",
      " |          interrupt_before (Optional[Sequence[str]]): An optional list of node names to interrupt before.\n",
      " |          interrupt_after (Optional[Sequence[str]]): An optional list of node names to interrupt after.\n",
      " |          debug (bool): A flag indicating whether to enable debug mode.\n",
      " |\n",
      " |      Returns:\n",
      " |          CompiledStateGraph: The compiled state graph.\n",
      " |\n",
      " |  ----------------------------------------------------------------------\n",
      " |  Data and other attributes defined here:\n",
      " |\n",
      " |  __annotations__ = {'channels': dict[str, langgraph.channels.base.BaseC...\n",
      " |\n",
      " |  ----------------------------------------------------------------------\n",
      " |  Methods inherited from langgraph.graph.graph.Graph:\n",
      " |\n",
      " |  add_conditional_edges(self, source: str, path: Union[Callable[..., Union[Hashable, list[Hashable]]], Callable[..., Awaitable[Union[Hashable, list[Hashable]]]], langchain_core.runnables.base.Runnable[Any, Union[Hashable, list[Hashable]]]], path_map: Union[dict[Hashable, str], list[str], NoneType] = None, then: Optional[str] = None) -> Self\n",
      " |      Add a conditional edge from the starting node to any number of destination nodes.\n",
      " |\n",
      " |      Args:\n",
      " |          source (str): The starting node. This conditional edge will run when\n",
      " |              exiting this node.\n",
      " |          path (Union[Callable, Runnable]): The callable that determines the next\n",
      " |              node or nodes. If not specifying `path_map` it should return one or\n",
      " |              more nodes. If it returns END, the graph will stop execution.\n",
      " |          path_map (Optional[dict[Hashable, str]]): Optional mapping of paths to node\n",
      " |              names. If omitted the paths returned by `path` should be node names.\n",
      " |          then (Optional[str]): The name of a node to execute after the nodes\n",
      " |              selected by `path`.\n",
      " |\n",
      " |      Returns:\n",
      " |          None\n",
      " |\n",
      " |      Note: Without typehints on the `path` function's return value (e.g., `-> Literal[\"foo\", \"__end__\"]:`)\n",
      " |          or a path_map, the graph visualization assumes the edge could transition to any node in the graph.\n",
      " |\n",
      " |  set_conditional_entry_point(self, path: Union[Callable[..., Union[Hashable, list[Hashable]]], Callable[..., Awaitable[Union[Hashable, list[Hashable]]]], langchain_core.runnables.base.Runnable[Any, Union[Hashable, list[Hashable]]]], path_map: Union[dict[Hashable, str], list[str], NoneType] = None, then: Optional[str] = None) -> Self\n",
      " |      Sets a conditional entry point in the graph.\n",
      " |\n",
      " |      Args:\n",
      " |          path (Union[Callable, Runnable]): The callable that determines the next\n",
      " |              node or nodes. If not specifying `path_map` it should return one or\n",
      " |              more nodes. If it returns END, the graph will stop execution.\n",
      " |          path_map (Optional[dict[str, str]]): Optional mapping of paths to node\n",
      " |              names. If omitted the paths returned by `path` should be node names.\n",
      " |          then (Optional[str]): The name of a node to execute after the nodes\n",
      " |              selected by `path`.\n",
      " |\n",
      " |      Returns:\n",
      " |          None\n",
      " |\n",
      " |  set_entry_point(self, key: str) -> Self\n",
      " |      Specifies the first node to be called in the graph.\n",
      " |\n",
      " |      Equivalent to calling `add_edge(START, key)`.\n",
      " |\n",
      " |      Parameters:\n",
      " |          key (str): The key of the node to set as the entry point.\n",
      " |\n",
      " |      Returns:\n",
      " |          None\n",
      " |\n",
      " |  set_finish_point(self, key: str) -> Self\n",
      " |      Marks a node as a finish point of the graph.\n",
      " |\n",
      " |      If the graph reaches this node, it will cease execution.\n",
      " |\n",
      " |      Parameters:\n",
      " |          key (str): The key of the node to set as the finish point.\n",
      " |\n",
      " |      Returns:\n",
      " |          None\n",
      " |\n",
      " |  validate(self, interrupt: Optional[Sequence[str]] = None) -> Self\n",
      " |\n",
      " |  ----------------------------------------------------------------------\n",
      " |  Data descriptors inherited from langgraph.graph.graph.Graph:\n",
      " |\n",
      " |  __dict__\n",
      " |      dictionary for instance variables\n",
      " |\n",
      " |  __weakref__\n",
      " |      list of weak references to the object\n",
      "\n",
      "None\n",
      "['__annotations__', '__class__', '__delattr__', '__dict__', '__dir__', '__doc__', '__eq__', '__format__', '__ge__', '__getattribute__', '__getstate__', '__gt__', '__hash__', '__init__', '__init_subclass__', '__le__', '__lt__', '__module__', '__ne__', '__new__', '__reduce__', '__reduce_ex__', '__repr__', '__setattr__', '__sizeof__', '__str__', '__subclasshook__', '__weakref__', '_add_schema', '_all_edges', 'add_conditional_edges', 'add_edge', 'add_node', 'add_sequence', 'branches', 'channels', 'compile', 'compiled', 'config_schema', 'edges', 'input', 'managed', 'nodes', 'output', 'schema', 'schemas', 'set_conditional_entry_point', 'set_entry_point', 'set_finish_point', 'support_multiple_edges', 'validate', 'waiting_edges']\n"
     ]
    }
   ],
   "source": [
    "class State(TypedDict):\n",
    "    \"\"\"\n",
    "    'messages' have the type 'list' and the 'add_messages' function is used to add or \n",
    "    append messages to the 'messages' list rather than overwritting.\n",
    "    \"\"\"\n",
    "    messages: Annotated[list, add_messages]\n",
    "\n",
    "graph_builder = StateGraph(State)\n",
    "print(help(graph_builder))\n",
    "print(dir(graph_builder))"
   ]
  },
  {
   "cell_type": "code",
   "execution_count": 8,
   "metadata": {},
   "outputs": [],
   "source": [
    "def chatbot(state:State):\n",
    "    return {\"messages\": llm.invoke(state[\"messages\"])} "
   ]
  },
  {
   "cell_type": "code",
   "execution_count": 9,
   "metadata": {},
   "outputs": [
    {
     "data": {
      "text/plain": [
       "<langgraph.graph.state.StateGraph at 0x112e62240>"
      ]
     },
     "execution_count": 9,
     "metadata": {},
     "output_type": "execute_result"
    }
   ],
   "source": [
    "graph_builder.add_node(\"chatbot\", chatbot)"
   ]
  },
  {
   "cell_type": "code",
   "execution_count": 11,
   "metadata": {},
   "outputs": [
    {
     "data": {
      "text/plain": [
       "<langgraph.graph.state.StateGraph at 0x112e62240>"
      ]
     },
     "execution_count": 11,
     "metadata": {},
     "output_type": "execute_result"
    }
   ],
   "source": [
    "graph_builder.add_edge(START, \"chatbot\")\n",
    "graph_builder.add_edge(\"chatbot\", END)"
   ]
  },
  {
   "cell_type": "code",
   "execution_count": 12,
   "metadata": {},
   "outputs": [
    {
     "data": {
      "text/plain": [
       "<langgraph.graph.state.CompiledStateGraph at 0x112914080>"
      ]
     },
     "execution_count": 12,
     "metadata": {},
     "output_type": "execute_result"
    }
   ],
   "source": [
    "# ready the graph\n",
    "graph = graph_builder.compile()\n",
    "graph"
   ]
  },
  {
   "cell_type": "code",
   "execution_count": 13,
   "metadata": {},
   "outputs": [
    {
     "data": {
      "image/png": "[encoded data removed]",
      "text/plain": [
       "<IPython.core.display.Image object>"
      ]
     },
     "metadata": {},
     "output_type": "display_data"
    }
   ],
   "source": [
    "from IPython.display import Image, display\n",
    "try:\n",
    "    display(Image(graph.get_graph(xray=1).draw_mermaid_png()))\n",
    "except Exception as e:\n",
    "    print(e)"
   ]
  },
  {
   "cell_type": "code",
   "execution_count": 16,
   "metadata": {},
   "outputs": [
    {
     "name": "stdout",
     "output_type": "stream",
     "text": [
      "dict_values([{'messages': AIMessage(content=\"LangGraph is a fascinating project! \\n\\n**Essentially, it's a large-scale language model (LLM) trained by Google DeepMind that focuses on understanding the structural relationships between words in a sentence.** \\n\\nHere's a breakdown of its key features and significance:\\n\\n**1. Focus on Syntax and Structure:**\\n\\nUnlike many LLMs that primarily focus on predicting the next word in a sequence, LangGraph emphasizes understanding the grammatical structure of language. It learns the dependencies between words, capturing how they relate to each other in terms of subject, object, verb, and other syntactic roles.\\n\\n**2. Graph-Based Representation:**\\n\\nLangGraph uses a graph-based representation to model language. Each word is a node in the graph, and edges connect words based on their syntactic relationships. This allows the model to capture complex dependencies and hierarchical structures in sentences.\\n\\n**3. Powerful Performance:**\\n\\nLangGraph has demonstrated impressive performance on various natural language understanding tasks, including:\\n\\n* **Semantic Role Labeling:** Identifying the roles that words play in a sentence (e.g., agent, patient, location).\\n* **Dependency Parsing:** Determining the grammatical relationships between words in a sentence.\\n* **Textual Entailment:** Determining whether one sentence logically follows from another.\\n\\n**4. Open-Source and Accessible:**\\n\\nLangGraph's code and pre-trained weights are publicly available, making it accessible to researchers and developers who want to explore its capabilities or build upon its foundation.\\n\\n**Significance:**\\n\\nLangGraph represents a significant advancement in the field of natural language processing. Its focus on syntactic structure and graph-based representation offers a promising new way to understand and reason about language. \\n\\n**Potential Applications:**\\n\\nThe capabilities of LangGraph have numerous potential applications, including:\\n\\n* **Improving machine translation:**\\n\\nBy understanding the grammatical structure of sentences, LangGraph can translate text more accurately and naturally.\\n* **Enhancing question answering systems:**\\n\\nLangGraph can help question answering systems better understand the relationships between words in a question and a passage of text.\\n* **Developing more sophisticated chatbots:**\\n\\nLangGraph's ability to understand syntax and semantics can lead to more natural and engaging conversations with chatbots.\\n\\n\\nLet me know if you have any more questions about LangGraph!\\n\", additional_kwargs={}, response_metadata={'token_usage': {'completion_tokens': 472, 'prompt_tokens': 15, 'total_tokens': 487, 'completion_time': 0.858181818, 'prompt_time': 9.1759e-05, 'queue_time': 0.014467061, 'total_time': 0.858273577}, 'model_name': 'Gemma2-9b-It', 'system_fingerprint': 'fp_10c08bf97d', 'finish_reason': 'stop', 'logprobs': None}, id='run-0825b803-deb6-46e2-89e8-e07878a0d5e1-0', usage_metadata={'input_tokens': 15, 'output_tokens': 472, 'total_tokens': 487})}])\n",
      "content=\"LangGraph is a fascinating project! \\n\\n**Essentially, it's a large-scale language model (LLM) trained by Google DeepMind that focuses on understanding the structural relationships between words in a sentence.** \\n\\nHere's a breakdown of its key features and significance:\\n\\n**1. Focus on Syntax and Structure:**\\n\\nUnlike many LLMs that primarily focus on predicting the next word in a sequence, LangGraph emphasizes understanding the grammatical structure of language. It learns the dependencies between words, capturing how they relate to each other in terms of subject, object, verb, and other syntactic roles.\\n\\n**2. Graph-Based Representation:**\\n\\nLangGraph uses a graph-based representation to model language. Each word is a node in the graph, and edges connect words based on their syntactic relationships. This allows the model to capture complex dependencies and hierarchical structures in sentences.\\n\\n**3. Powerful Performance:**\\n\\nLangGraph has demonstrated impressive performance on various natural language understanding tasks, including:\\n\\n* **Semantic Role Labeling:** Identifying the roles that words play in a sentence (e.g., agent, patient, location).\\n* **Dependency Parsing:** Determining the grammatical relationships between words in a sentence.\\n* **Textual Entailment:** Determining whether one sentence logically follows from another.\\n\\n**4. Open-Source and Accessible:**\\n\\nLangGraph's code and pre-trained weights are publicly available, making it accessible to researchers and developers who want to explore its capabilities or build upon its foundation.\\n\\n**Significance:**\\n\\nLangGraph represents a significant advancement in the field of natural language processing. Its focus on syntactic structure and graph-based representation offers a promising new way to understand and reason about language. \\n\\n**Potential Applications:**\\n\\nThe capabilities of LangGraph have numerous potential applications, including:\\n\\n* **Improving machine translation:**\\n\\nBy understanding the grammatical structure of sentences, LangGraph can translate text more accurately and naturally.\\n* **Enhancing question answering systems:**\\n\\nLangGraph can help question answering systems better understand the relationships between words in a question and a passage of text.\\n* **Developing more sophisticated chatbots:**\\n\\nLangGraph's ability to understand syntax and semantics can lead to more natural and engaging conversations with chatbots.\\n\\n\\nLet me know if you have any more questions about LangGraph!\\n\" additional_kwargs={} response_metadata={'token_usage': {'completion_tokens': 472, 'prompt_tokens': 15, 'total_tokens': 487, 'completion_time': 0.858181818, 'prompt_time': 9.1759e-05, 'queue_time': 0.014467061, 'total_time': 0.858273577}, 'model_name': 'Gemma2-9b-It', 'system_fingerprint': 'fp_10c08bf97d', 'finish_reason': 'stop', 'logprobs': None} id='run-0825b803-deb6-46e2-89e8-e07878a0d5e1-0' usage_metadata={'input_tokens': 15, 'output_tokens': 472, 'total_tokens': 487}\n",
      "Assistant:  LangGraph is a fascinating project! \n",
      "\n",
      "**Essentially, it's a large-scale language model (LLM) trained by Google DeepMind that focuses on understanding the structural relationships between words in a sentence.** \n",
      "\n",
      "Here's a breakdown of its key features and significance:\n",
      "\n",
      "**1. Focus on Syntax and Structure:**\n",
      "\n",
      "Unlike many LLMs that primarily focus on predicting the next word in a sequence, LangGraph emphasizes understanding the grammatical structure of language. It learns the dependencies between words, capturing how they relate to each other in terms of subject, object, verb, and other syntactic roles.\n",
      "\n",
      "**2. Graph-Based Representation:**\n",
      "\n",
      "LangGraph uses a graph-based representation to model language. Each word is a node in the graph, and edges connect words based on their syntactic relationships. This allows the model to capture complex dependencies and hierarchical structures in sentences.\n",
      "\n",
      "**3. Powerful Performance:**\n",
      "\n",
      "LangGraph has demonstrated impressive performance on various natural language understanding tasks, including:\n",
      "\n",
      "* **Semantic Role Labeling:** Identifying the roles that words play in a sentence (e.g., agent, patient, location).\n",
      "* **Dependency Parsing:** Determining the grammatical relationships between words in a sentence.\n",
      "* **Textual Entailment:** Determining whether one sentence logically follows from another.\n",
      "\n",
      "**4. Open-Source and Accessible:**\n",
      "\n",
      "LangGraph's code and pre-trained weights are publicly available, making it accessible to researchers and developers who want to explore its capabilities or build upon its foundation.\n",
      "\n",
      "**Significance:**\n",
      "\n",
      "LangGraph represents a significant advancement in the field of natural language processing. Its focus on syntactic structure and graph-based representation offers a promising new way to understand and reason about language. \n",
      "\n",
      "**Potential Applications:**\n",
      "\n",
      "The capabilities of LangGraph have numerous potential applications, including:\n",
      "\n",
      "* **Improving machine translation:**\n",
      "\n",
      "By understanding the grammatical structure of sentences, LangGraph can translate text more accurately and naturally.\n",
      "* **Enhancing question answering systems:**\n",
      "\n",
      "LangGraph can help question answering systems better understand the relationships between words in a question and a passage of text.\n",
      "* **Developing more sophisticated chatbots:**\n",
      "\n",
      "LangGraph's ability to understand syntax and semantics can lead to more natural and engaging conversations with chatbots.\n",
      "\n",
      "\n",
      "Let me know if you have any more questions about LangGraph!\n",
      "\n",
      "Good Bye!!!\n"
     ]
    }
   ],
   "source": [
    "while True:\n",
    "    user_input = input(\"You: \")\n",
    "    if user_input.lower() in [\"quit\", \"q\"]:\n",
    "        print(\"Good Bye!!!\")\n",
    "        break\n",
    "    for event in graph.stream({\"messages\":(\"user\", user_input)}):\n",
    "        print(event.values())\n",
    "        for value in event.values():\n",
    "            print(value[\"messages\"])\n",
    "            print(\"Assistant: \", value[\"messages\"].content)"
   ]
  },
  {
   "cell_type": "code",
   "execution_count": null,
   "metadata": {},
   "outputs": [],
   "source": []
  }
 ],
 "metadata": {
  "kernelspec": {
   "display_name": "lang-chain-and-graph-0ApBBkOM-py3.12",
   "language": "python",
   "name": "python3"
  },
  "language_info": {
   "codemirror_mode": {
    "name": "ipython",
    "version": 3
   },
   "file_extension": ".py",
   "mimetype": "text/x-python",
   "name": "python",
   "nbconvert_exporter": "python",
   "pygments_lexer": "ipython3",
   "version": "3.12.5"
  }
 },
 "nbformat": 4,
 "nbformat_minor": 2
}
